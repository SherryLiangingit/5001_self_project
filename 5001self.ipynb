{
 "cells": [
  {
   "cell_type": "code",
   "execution_count": 1,
   "metadata": {
    "collapsed": false
   },
   "outputs": [],
   "source": [
    "import pandas as pd\n",
    "import numpy as np\n",
    "from sklearn.preprocessing import LabelEncoder\n",
    "import xgboost as xgb\n",
    "from sklearn.model_selection import GridSearchCV\n",
    "from xgboost import plot_importance\n",
    "from matplotlib import pyplot\n",
    "model=xgb.XGBRegressor()\n",
    "le=LabelEncoder()"
   ]
  },
  {
   "cell_type": "code",
   "execution_count": 2,
   "metadata": {
    "collapsed": true
   },
   "outputs": [],
   "source": [
    "train=pd.read_csv('C:/Files/HKUST/5001/self/train.csv')\n",
    "test=pd.read_csv('C:/Files/HKUST/5001/self/test.csv')"
   ]
  },
  {
   "cell_type": "markdown",
   "metadata": {},
   "source": [
    "##  Part 1 Data Set Exploring"
   ]
  },
  {
   "cell_type": "code",
   "execution_count": 3,
   "metadata": {
    "collapsed": false
   },
   "outputs": [
    {
     "data": {
      "text/html": [
       "<div>\n",
       "<style scoped>\n",
       "    .dataframe tbody tr th:only-of-type {\n",
       "        vertical-align: middle;\n",
       "    }\n",
       "\n",
       "    .dataframe tbody tr th {\n",
       "        vertical-align: top;\n",
       "    }\n",
       "\n",
       "    .dataframe thead th {\n",
       "        text-align: right;\n",
       "    }\n",
       "</style>\n",
       "<table border=\"1\" class=\"dataframe\">\n",
       "  <thead>\n",
       "    <tr style=\"text-align: right;\">\n",
       "      <th></th>\n",
       "      <th>id</th>\n",
       "      <th>penalty</th>\n",
       "      <th>l1_ratio</th>\n",
       "      <th>alpha</th>\n",
       "      <th>max_iter</th>\n",
       "      <th>random_state</th>\n",
       "      <th>n_jobs</th>\n",
       "      <th>n_samples</th>\n",
       "      <th>n_features</th>\n",
       "      <th>n_classes</th>\n",
       "      <th>n_clusters_per_class</th>\n",
       "      <th>n_informative</th>\n",
       "      <th>flip_y</th>\n",
       "      <th>scale</th>\n",
       "      <th>time</th>\n",
       "    </tr>\n",
       "  </thead>\n",
       "  <tbody>\n",
       "    <tr>\n",
       "      <th>0</th>\n",
       "      <td>0</td>\n",
       "      <td>none</td>\n",
       "      <td>0.304083</td>\n",
       "      <td>0.0001</td>\n",
       "      <td>417</td>\n",
       "      <td>475</td>\n",
       "      <td>-1</td>\n",
       "      <td>1089</td>\n",
       "      <td>327</td>\n",
       "      <td>4</td>\n",
       "      <td>3</td>\n",
       "      <td>7</td>\n",
       "      <td>0.074798</td>\n",
       "      <td>24.242009</td>\n",
       "      <td>0.409987</td>\n",
       "    </tr>\n",
       "    <tr>\n",
       "      <th>1</th>\n",
       "      <td>1</td>\n",
       "      <td>l1</td>\n",
       "      <td>0.727744</td>\n",
       "      <td>0.0010</td>\n",
       "      <td>578</td>\n",
       "      <td>569</td>\n",
       "      <td>1</td>\n",
       "      <td>790</td>\n",
       "      <td>373</td>\n",
       "      <td>4</td>\n",
       "      <td>5</td>\n",
       "      <td>7</td>\n",
       "      <td>0.077781</td>\n",
       "      <td>54.626302</td>\n",
       "      <td>3.950953</td>\n",
       "    </tr>\n",
       "    <tr>\n",
       "      <th>2</th>\n",
       "      <td>2</td>\n",
       "      <td>none</td>\n",
       "      <td>0.745885</td>\n",
       "      <td>0.0100</td>\n",
       "      <td>588</td>\n",
       "      <td>529</td>\n",
       "      <td>2</td>\n",
       "      <td>428</td>\n",
       "      <td>1198</td>\n",
       "      <td>2</td>\n",
       "      <td>5</td>\n",
       "      <td>6</td>\n",
       "      <td>0.030196</td>\n",
       "      <td>17.999964</td>\n",
       "      <td>0.368702</td>\n",
       "    </tr>\n",
       "    <tr>\n",
       "      <th>3</th>\n",
       "      <td>3</td>\n",
       "      <td>none</td>\n",
       "      <td>0.474605</td>\n",
       "      <td>0.0010</td>\n",
       "      <td>829</td>\n",
       "      <td>103</td>\n",
       "      <td>4</td>\n",
       "      <td>877</td>\n",
       "      <td>313</td>\n",
       "      <td>6</td>\n",
       "      <td>5</td>\n",
       "      <td>7</td>\n",
       "      <td>0.057261</td>\n",
       "      <td>82.257222</td>\n",
       "      <td>1.004559</td>\n",
       "    </tr>\n",
       "    <tr>\n",
       "      <th>4</th>\n",
       "      <td>4</td>\n",
       "      <td>elasticnet</td>\n",
       "      <td>0.395049</td>\n",
       "      <td>0.0010</td>\n",
       "      <td>167</td>\n",
       "      <td>418</td>\n",
       "      <td>2</td>\n",
       "      <td>216</td>\n",
       "      <td>644</td>\n",
       "      <td>8</td>\n",
       "      <td>5</td>\n",
       "      <td>11</td>\n",
       "      <td>0.073728</td>\n",
       "      <td>95.515601</td>\n",
       "      <td>0.802800</td>\n",
       "    </tr>\n",
       "  </tbody>\n",
       "</table>\n",
       "</div>"
      ],
      "text/plain": [
       "   id     penalty  l1_ratio   alpha  max_iter  random_state  n_jobs  \\\n",
       "0   0        none  0.304083  0.0001       417           475      -1   \n",
       "1   1          l1  0.727744  0.0010       578           569       1   \n",
       "2   2        none  0.745885  0.0100       588           529       2   \n",
       "3   3        none  0.474605  0.0010       829           103       4   \n",
       "4   4  elasticnet  0.395049  0.0010       167           418       2   \n",
       "\n",
       "   n_samples  n_features  n_classes  n_clusters_per_class  n_informative  \\\n",
       "0       1089         327          4                     3              7   \n",
       "1        790         373          4                     5              7   \n",
       "2        428        1198          2                     5              6   \n",
       "3        877         313          6                     5              7   \n",
       "4        216         644          8                     5             11   \n",
       "\n",
       "     flip_y      scale      time  \n",
       "0  0.074798  24.242009  0.409987  \n",
       "1  0.077781  54.626302  3.950953  \n",
       "2  0.030196  17.999964  0.368702  \n",
       "3  0.057261  82.257222  1.004559  \n",
       "4  0.073728  95.515601  0.802800  "
      ]
     },
     "execution_count": 3,
     "metadata": {},
     "output_type": "execute_result"
    }
   ],
   "source": [
    "train.head()"
   ]
  },
  {
   "cell_type": "markdown",
   "metadata": {},
   "source": [
    "**From a glimpse of training data set, it can be seen that ‘penalty’ is a category feature. Besides, ‘alpha’ only takes 3 different values, 0.0001, 0.001, 0.01, so it can be seen as a category feature as well. For the two columns, I’m going to transform them into integers with simple label encoder method.**\n"
   ]
  },
  {
   "cell_type": "code",
   "execution_count": 4,
   "metadata": {
    "collapsed": true
   },
   "outputs": [],
   "source": [
    "categories=['penalty','alpha']\n",
    "for column in categories:\n",
    "    train[column]=le.fit_transform(np.array(train[column]))\n",
    "    test[column]=le.fit_transform(np.array(test[column]))"
   ]
  },
  {
   "cell_type": "markdown",
   "metadata": {},
   "source": [
    "**The value -1 in column ‘n_jobs’ means that all CPUs are used for parallelized routines, which are different in different kinds of computers and may cause misleading. So I drop these rows which has -1 in ‘n_jobs’, and replace -1 with 16 in test data set.  * (16 came from prediction result. I've tried 2, 4, 8 and 16, it got highest score when -1 was replaced with 16 )*  **\n",
    "\n",
    "**Besides, the building time was transformed to its log value, which can help deal with the situation that prediction value was smaller than 0. **"
   ]
  },
  {
   "cell_type": "code",
   "execution_count": 5,
   "metadata": {
    "collapsed": false
   },
   "outputs": [],
   "source": [
    "train=train.replace(-1,np.nan).dropna()\n",
    "train_y=train['time'].ravel()\n",
    "train_y=np.log(train_y)\n",
    "train=train.drop(['time','id'],axis=1)\n",
    "test=test.replace(-1,16)"
   ]
  },
  {
   "cell_type": "markdown",
   "metadata": {},
   "source": [
    "**I choose *xgboost* to make prediction. First just simply see the importance of all the features in original training data set.**"
   ]
  },
  {
   "cell_type": "code",
   "execution_count": 6,
   "metadata": {
    "collapsed": false
   },
   "outputs": [
    {
     "data": {
      "text/plain": [
       "XGBRegressor(base_score=0.5, booster='gbtree', colsample_bylevel=1,\n",
       "       colsample_bytree=1, gamma=0, learning_rate=0.1, max_delta_step=0,\n",
       "       max_depth=3, min_child_weight=1, missing=None, n_estimators=100,\n",
       "       n_jobs=1, nthread=None, objective='reg:linear', random_state=0,\n",
       "       reg_alpha=0, reg_lambda=1, scale_pos_weight=1, seed=None,\n",
       "       silent=True, subsample=1)"
      ]
     },
     "execution_count": 6,
     "metadata": {},
     "output_type": "execute_result"
    },
    {
     "data": {
      "text/plain": [
       "<matplotlib.axes._subplots.AxesSubplot at 0x1d9ca6fd3c8>"
      ]
     },
     "execution_count": 6,
     "metadata": {},
     "output_type": "execute_result"
    },
    {
     "data": {
      "image/png": "[encoded data removed]",
      "text/plain": [
       "<matplotlib.figure.Figure at 0x1d9cf1da828>"
      ]
     },
     "metadata": {},
     "output_type": "display_data"
    }
   ],
   "source": [
    "model.fit(train,train_y)\n",
    "plot_importance(model)\n",
    "pyplot.show()"
   ]
  },
  {
   "cell_type": "markdown",
   "metadata": {},
   "source": [
    "## Part 2 Feature Engineering"
   ]
  },
  {
   "cell_type": "markdown",
   "metadata": {},
   "source": [
    "**  According to the theory of *SGDClassifier*, if the input data set is a matrix of size $(n,p)$, training has a cost of  $O(n\\overline{p}k)$ , where $k$ is the number of iterations (epochs) and $\\overline{p}$ is the average number of non-zero attributes per sample. **\n",
    "  \n",
    "**  The synthetic dataset for training is generated using *sklearn.datasets.make_classification*. According to its explaination，‘n_samples’ means the number of samples, ‘n_features’ means the total number of features.**\n",
    "  \n",
    "**  Therefore, I considered to generate some more features from these important ones. **"
   ]
  },
  {
   "cell_type": "code",
   "execution_count": 7,
   "metadata": {
    "collapsed": true
   },
   "outputs": [],
   "source": [
    "train['kpn']=train['max_iter']*train['n_features']*train['n_samples']\n",
    "test['kpn']=test['max_iter']*test['n_features']*test['n_samples']\n",
    "\n",
    "train['iter_divide_jobs'] = train['max_iter'] / train['n_jobs']\n",
    "test['iter_divide_jobs'] = test['max_iter'] / test['n_jobs']\n",
    "\n",
    "train['samples_divide_jobs'] = train['n_samples'] / train['n_jobs']\n",
    "test['samples_divide_jobs'] = test['n_samples'] / test['n_jobs']\n",
    "\n",
    "train['features_divide_jobs']=train['n_features']/train['n_jobs']\n",
    "test['features_divide_jobs']=test['n_features']/test['n_jobs']"
   ]
  },
  {
   "cell_type": "code",
   "execution_count": 21,
   "metadata": {
    "collapsed": false
   },
   "outputs": [
    {
     "data": {
      "text/plain": [
       "XGBRegressor(base_score=0.5, booster='gbtree', colsample_bylevel=1,\n",
       "       colsample_bytree=1, gamma=0, learning_rate=0.1, max_delta_step=0,\n",
       "       max_depth=3, min_child_weight=1, missing=None, n_estimators=100,\n",
       "       n_jobs=1, nthread=None, objective='reg:linear', random_state=0,\n",
       "       reg_alpha=0, reg_lambda=1, scale_pos_weight=1, seed=None,\n",
       "       silent=True, subsample=1)"
      ]
     },
     "execution_count": 21,
     "metadata": {},
     "output_type": "execute_result"
    },
    {
     "data": {
      "text/plain": [
       "<matplotlib.axes._subplots.AxesSubplot at 0x1d9cf77dda0>"
      ]
     },
     "execution_count": 21,
     "metadata": {},
     "output_type": "execute_result"
    },
    {
     "data": {
      "image/png": "[encoded data removed]",
      "text/plain": [
       "<matplotlib.figure.Figure at 0x1d9cf7349b0>"
      ]
     },
     "metadata": {},
     "output_type": "display_data"
    }
   ],
   "source": [
    "model.fit(train,train_y)\n",
    "plot_importance(model)\n",
    "pyplot.show()"
   ]
  },
  {
   "cell_type": "markdown",
   "metadata": {},
   "source": [
    "**Some features may have influence on the practical training tasks, so I just kept them. The features I finally used is as bellow:**"
   ]
  },
  {
   "cell_type": "code",
   "execution_count": 9,
   "metadata": {
    "collapsed": false
   },
   "outputs": [],
   "source": [
    "featurelist=['penalty', 'l1_ratio', 'random_state','max_iter','n_jobs',\n",
    "              'n_classes','n_clusters_per_class','flip_y', 'scale',\n",
    "             'kpn', 'iter_divide_jobs','samples_divide_jobs', 'features_divide_jobs']"
   ]
  },
  {
   "cell_type": "code",
   "execution_count": 10,
   "metadata": {
    "collapsed": false
   },
   "outputs": [],
   "source": [
    "train_x=train[featurelist]\n",
    "test_x=test[featurelist]"
   ]
  },
  {
   "cell_type": "markdown",
   "metadata": {},
   "source": [
    "## Part 3 Build The Model"
   ]
  },
  {
   "cell_type": "markdown",
   "metadata": {
    "collapsed": false
   },
   "source": [
    "**Use *GridSearchCV* to get the best parameters.**"
   ]
  },
  {
   "cell_type": "code",
   "execution_count": 11,
   "metadata": {
    "collapsed": false
   },
   "outputs": [
    {
     "data": {
      "text/plain": [
       "GridSearchCV(cv=5, error_score='raise-deprecating',\n",
       "       estimator=XGBRegressor(base_score=0.5, booster='gbtree', colsample_bylevel=1,\n",
       "       colsample_bytree=1, gamma=0, learning_rate=0.1, max_delta_step=0,\n",
       "       max_depth=3, min_child_weight=1, missing=None, n_estimators=100,\n",
       "       n_jobs=1, nthread=None, objective='reg:linear', random_state=0,\n",
       "       reg_alpha=0, reg_lambda=1, scale_pos_weight=1, seed=None,\n",
       "       silent=True, subsample=1),\n",
       "       fit_params=None, iid=True, n_jobs=None,\n",
       "       param_grid={'min_child_weight': [1, 2, 3, 4, 5, 6, 7], 'max_depth': [2, 3, 4, 5, 6, 7]},\n",
       "       pre_dispatch='2*n_jobs', refit=True, return_train_score='warn',\n",
       "       scoring=None, verbose=0)"
      ]
     },
     "execution_count": 11,
     "metadata": {},
     "output_type": "execute_result"
    },
    {
     "name": "stdout",
     "output_type": "stream",
     "text": [
      "Best: 0.957723 using {'min_child_weight': 1, 'max_depth': 2}\n"
     ]
    }
   ],
   "source": [
    "params=dict()\n",
    "xgb_param_grid = {'max_depth': list(range(2,8)), \n",
    "                  'min_child_weight': list(range(1,8))}\n",
    "grid = GridSearchCV(xgb.XGBRegressor(),\n",
    "                param_grid=xgb_param_grid, cv=5,iid=True)\n",
    "\n",
    "grid.fit(train_x, train_y)\n",
    "print(\"Best: %f using %s\" % (grid.best_score_, grid.best_params_))\n",
    "params.update(grid.best_params_)"
   ]
  },
  {
   "cell_type": "code",
   "execution_count": 12,
   "metadata": {
    "collapsed": false
   },
   "outputs": [
    {
     "data": {
      "text/plain": [
       "GridSearchCV(cv=5, error_score='raise-deprecating',\n",
       "       estimator=XGBRegressor(base_score=0.5, booster='gbtree', colsample_bylevel=1,\n",
       "       colsample_bytree=1, gamma=0, learning_rate=0.1, max_delta_step=0,\n",
       "       max_depth=2, min_child_weight=1, missing=None, n_estimators=100,\n",
       "       n_jobs=1, nthread=None, objective='reg:linear', random_state=0,\n",
       "       reg_alpha=0, reg_lambda=1, scale_pos_weight=1, seed=None,\n",
       "       silent=True, subsample=1),\n",
       "       fit_params=None, iid=True, n_jobs=None,\n",
       "       param_grid={'gamma': [0.2, 0.1, 0.075, 0.05, 0.01, 0.005, 0.001, 0]},\n",
       "       pre_dispatch='2*n_jobs', refit=True, return_train_score='warn',\n",
       "       scoring=None, verbose=0)"
      ]
     },
     "execution_count": 12,
     "metadata": {},
     "output_type": "execute_result"
    },
    {
     "name": "stdout",
     "output_type": "stream",
     "text": [
      "Best: 0.957723 using {'gamma': 0.01}\n"
     ]
    }
   ],
   "source": [
    "xgb_param_grid = {'gamma':[0.2,0.1,0.075,0.05,0.01,0.005,0.001,0]}\n",
    "\n",
    "grid = GridSearchCV(xgb.XGBRegressor(**params),\n",
    "                    param_grid=xgb_param_grid, cv=5,iid=True)\n",
    "\n",
    "grid.fit(train_x, train_y)\n",
    "print(\"Best: %f using %s\" % (grid.best_score_, grid.best_params_))\n",
    "params.update(grid.best_params_)"
   ]
  },
  {
   "cell_type": "code",
   "execution_count": 13,
   "metadata": {
    "collapsed": false
   },
   "outputs": [
    {
     "data": {
      "text/plain": [
       "GridSearchCV(cv=5, error_score='raise-deprecating',\n",
       "       estimator=XGBRegressor(base_score=0.5, booster='gbtree', colsample_bylevel=1,\n",
       "       colsample_bytree=1, gamma=0.01, learning_rate=0.1, max_delta_step=0,\n",
       "       max_depth=2, min_child_weight=1, missing=None, n_estimators=100,\n",
       "       n_jobs=1, nthread=None, objective='reg:linear', random_state=0,\n",
       "       reg_alpha=0, reg_lambda=1, scale_pos_weight=1, seed=None,\n",
       "       silent=True, subsample=1),\n",
       "       fit_params=None, iid=True, n_jobs=None,\n",
       "       param_grid={'colsample_bytree': [0.5, 0.6000000000000001, 0.7000000000000001, 0.8], 'subsample': [0.5, 0.6000000000000001, 0.7000000000000001, 0.8]},\n",
       "       pre_dispatch='2*n_jobs', refit=True, return_train_score='warn',\n",
       "       scoring=None, verbose=0)"
      ]
     },
     "execution_count": 13,
     "metadata": {},
     "output_type": "execute_result"
    },
    {
     "name": "stdout",
     "output_type": "stream",
     "text": [
      "Best: 0.963058 using {'colsample_bytree': 0.6000000000000001, 'subsample': 0.8}\n"
     ]
    }
   ],
   "source": [
    "xgb_param_grid = {'subsample':[ 0.1 * i for i in range(5,9)],\n",
    "                      'colsample_bytree':[ 0.1 * i for i in range(5,9)]}\n",
    "\n",
    "\n",
    "grid = GridSearchCV(xgb.XGBRegressor(**params),\n",
    "                    param_grid=xgb_param_grid, cv=5,iid=True)\n",
    "grid.fit(train_x, train_y)\n",
    "print(\"Best: %f using %s\" % (grid.best_score_, grid.best_params_))\n",
    "params.update(grid.best_params_)"
   ]
  },
  {
   "cell_type": "code",
   "execution_count": 14,
   "metadata": {
    "collapsed": false
   },
   "outputs": [
    {
     "data": {
      "text/plain": [
       "GridSearchCV(cv=5, error_score='raise-deprecating',\n",
       "       estimator=XGBRegressor(base_score=0.5, booster='gbtree', colsample_bylevel=1,\n",
       "       colsample_bytree=0.6000000000000001, gamma=0.01, learning_rate=0.1,\n",
       "       max_delta_step=0, max_depth=2, min_child_weight=1, missing=None,\n",
       "       n_estimators=100, n_jobs=1, nthread=None, objective='reg:linear',\n",
       "       random_state=0, reg_alpha=0, reg_lambda=1, scale_pos_weight=1,\n",
       "       seed=None, silent=True, subsample=0.8),\n",
       "       fit_params=None, iid=True, n_jobs=None,\n",
       "       param_grid={'learning_rate': [0.4, 0.3, 0.2, 0.1, 0.05, 0.01]},\n",
       "       pre_dispatch='2*n_jobs', refit=True, return_train_score='warn',\n",
       "       scoring=None, verbose=0)"
      ]
     },
     "execution_count": 14,
     "metadata": {},
     "output_type": "execute_result"
    },
    {
     "name": "stdout",
     "output_type": "stream",
     "text": [
      "Best: 0.963058 using {'learning_rate': 0.1}\n"
     ]
    }
   ],
   "source": [
    "xgb_param_grid = {'learning_rate':[0.4,0.3,0.2,0.1,0.05,0.01]}\n",
    "grid = GridSearchCV(xgb.XGBRegressor(**params),\n",
    "                    param_grid=xgb_param_grid, cv=5,iid=True)\n",
    "grid.fit(train_x, train_y)\n",
    "print(\"Best: %f using %s\" % (grid.best_score_, grid.best_params_))\n",
    "params.update(grid.best_params_)"
   ]
  },
  {
   "cell_type": "code",
   "execution_count": 15,
   "metadata": {
    "collapsed": false
   },
   "outputs": [
    {
     "data": {
      "text/plain": [
       "GridSearchCV(cv=5, error_score='raise-deprecating',\n",
       "       estimator=XGBRegressor(base_score=0.5, booster='gbtree', colsample_bylevel=1,\n",
       "       colsample_bytree=0.6000000000000001, gamma=0.01, learning_rate=0.1,\n",
       "       max_delta_step=0, max_depth=2, min_child_weight=1, missing=None,\n",
       "       n_estimators=100, n_jobs=1, nthread=None, objective='reg:linear',\n",
       "       random_state=0, reg_alpha=0, reg_lambda=1, scale_pos_weight=1,\n",
       "       seed=None, silent=True, subsample=0.8),\n",
       "       fit_params=None, iid=True, n_jobs=None,\n",
       "       param_grid={'n_estimators': [300, 400, 500, 600, 700, 800]},\n",
       "       pre_dispatch='2*n_jobs', refit=True, return_train_score='warn',\n",
       "       scoring=None, verbose=0)"
      ]
     },
     "execution_count": 15,
     "metadata": {},
     "output_type": "execute_result"
    },
    {
     "name": "stdout",
     "output_type": "stream",
     "text": [
      "Best: 0.969462 using {'n_estimators': 600}\n"
     ]
    }
   ],
   "source": [
    "xgb_param_grid = {'n_estimators':[300,400,500,600,700,800]}\n",
    "\n",
    "grid = GridSearchCV(xgb.XGBRegressor(**params),\n",
    "                    param_grid=xgb_param_grid, cv=5,iid=True)\n",
    "\n",
    "grid.fit(train_x, train_y)\n",
    "print(\"Best: %f using %s\" % (grid.best_score_, grid.best_params_))\n",
    "params.update(grid.best_params_)"
   ]
  },
  {
   "cell_type": "markdown",
   "metadata": {},
   "source": [
    "**After finding the best parmeters, build the final model.**"
   ]
  },
  {
   "cell_type": "code",
   "execution_count": 16,
   "metadata": {
    "collapsed": false
   },
   "outputs": [],
   "source": [
    "new_model=xgb.XGBRegressor(**params)"
   ]
  },
  {
   "cell_type": "code",
   "execution_count": 17,
   "metadata": {
    "collapsed": false
   },
   "outputs": [
    {
     "data": {
      "text/plain": [
       "XGBRegressor(base_score=0.5, booster='gbtree', colsample_bylevel=1,\n",
       "       colsample_bytree=0.6000000000000001, gamma=0.01, learning_rate=0.1,\n",
       "       max_delta_step=0, max_depth=2, min_child_weight=1, missing=None,\n",
       "       n_estimators=600, n_jobs=1, nthread=None, objective='reg:linear',\n",
       "       random_state=0, reg_alpha=0, reg_lambda=1, scale_pos_weight=1,\n",
       "       seed=None, silent=True, subsample=0.8)"
      ]
     },
     "execution_count": 17,
     "metadata": {},
     "output_type": "execute_result"
    }
   ],
   "source": [
    "new_model.fit(train_x,train_y)"
   ]
  },
  {
   "cell_type": "markdown",
   "metadata": {},
   "source": [
    "**Don't forget that the prediction values are log values. Return them to the normal form and save into the file.**"
   ]
  },
  {
   "cell_type": "code",
   "execution_count": 18,
   "metadata": {
    "collapsed": true
   },
   "outputs": [],
   "source": [
    "result=new_model.predict(test_x)\n",
    "result=np.exp(result)"
   ]
  },
  {
   "cell_type": "code",
   "execution_count": 19,
   "metadata": {
    "collapsed": false
   },
   "outputs": [],
   "source": [
    "result=pd.DataFrame({'time':result})\n",
    "result['Id']=result.index\n",
    "result=result[['Id','time']]\n",
    "result.to_csv('C:/Files/HKUST/5001/self/xgboost.csv',index=False)"
   ]
  },
  {
   "cell_type": "code",
   "execution_count": null,
   "metadata": {
    "collapsed": false
   },
   "outputs": [],
   "source": []
  },
  {
   "cell_type": "code",
   "execution_count": null,
   "metadata": {
    "collapsed": true
   },
   "outputs": [],
   "source": []
  },
  {
   "cell_type": "code",
   "execution_count": null,
   "metadata": {
    "collapsed": true
   },
   "outputs": [],
   "source": []
  },
  {
   "cell_type": "code",
   "execution_count": null,
   "metadata": {
    "collapsed": true
   },
   "outputs": [],
   "source": []
  },
  {
   "cell_type": "code",
   "execution_count": null,
   "metadata": {
    "collapsed": true
   },
   "outputs": [],
   "source": []
  }
 ],
 "metadata": {
  "anaconda-cloud": {},
  "kernelspec": {
   "display_name": "Python [default]",
   "language": "python",
   "name": "python3"
  },
  "language_info": {
   "codemirror_mode": {
    "name": "ipython",
    "version": 3
   },
   "file_extension": ".py",
   "mimetype": "text/x-python",
   "name": "python",
   "nbconvert_exporter": "python",
   "pygments_lexer": "ipython3",
   "version": "3.5.2"
  }
 },
 "nbformat": 4,
 "nbformat_minor": 1
}
